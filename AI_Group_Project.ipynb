{
 "cells": [
  {
   "cell_type": "markdown",
   "metadata": {},
   "source": [
    "# Cars 196 - Multi Class Classification"
   ]
  },
  {
   "cell_type": "code",
   "execution_count": 87,
   "metadata": {},
   "outputs": [
    {
     "name": "stdout",
     "output_type": "stream",
     "text": [
      "\n",
      "================================\n",
      "Train Data\n",
      "================================\n",
      "       bbox_x1  bbox_y1  bbox_x2  bbox_y2  class      fname\n",
      "0          39      116      569      375     14  00001.jpg\n",
      "1          36      116      868      587      3  00002.jpg\n",
      "2          85      109      601      381     91  00003.jpg\n",
      "3         621      393     1484     1096    134  00004.jpg\n",
      "4          14       36      133       99    106  00005.jpg\n",
      "...       ...      ...      ...      ...    ...        ...\n",
      "8139        3       44      423      336     78  08140.jpg\n",
      "8140      138      150      706      523    196  08141.jpg\n",
      "8141       26      246      660      449    163  08142.jpg\n",
      "8142       78      526     1489      908    112  08143.jpg\n",
      "8143       20      240      862      677     17  08144.jpg\n",
      "\n",
      "[8144 rows x 6 columns]\n",
      "\n",
      "================================\n",
      "Test Data\n",
      "================================\n",
      "       bbox_x1  bbox_y1  bbox_x2  bbox_y2      fname\n",
      "0          30       52      246      147  00001.jpg\n",
      "1         100       19      576      203  00002.jpg\n",
      "2          51      105      968      659  00003.jpg\n",
      "3          67       84      581      407  00004.jpg\n",
      "4         140      151      593      339  00005.jpg\n",
      "...       ...      ...      ...      ...        ...\n",
      "8036       49       57     1169      669  08037.jpg\n",
      "8037       23       18      640      459  08038.jpg\n",
      "8038       33       27      602      252  08039.jpg\n",
      "8039       33      142      521      376  08040.jpg\n",
      "8040       77       73      506      380  08041.jpg\n",
      "\n",
      "[8041 rows x 5 columns]\n"
     ]
    }
   ],
   "source": [
    "import os\n",
    "import matplotlib.pyplot as plt\n",
    "import scipy.io\n",
    "import pandas as pd\n",
    "\n",
    "# Define train data\n",
    "columns = ['bbox_x1', 'bbox_y1', 'bbox_x2', 'bbox_y2', 'class', 'fname']\n",
    "train_images_dir = os.path.join('./', 'cars_train')\n",
    "train_labels_mat = scipy.io.loadmat('cars_train_annos.mat')\n",
    "train_labels_data = [[row.flat[0] for row in line] for line in train_labels_mat['annotations'][0]]\n",
    "df_train = pd.DataFrame(train_labels_data, columns=columns)\n",
    "print(\"\\n================================\\nTrain Data\\n================================\\n\", df_train)\n",
    "\n",
    "# Define test data\n",
    "columns = ['bbox_x1', 'bbox_y1', 'bbox_x2', 'bbox_y2', 'fname']\n",
    "test_images_dir = os.path.join('./', 'cars_test')\n",
    "test_labels_mat = scipy.io.loadmat('cars_test_annos.mat')\n",
    "test_labels_data = [[row.flat[0] for row in line] for line in test_labels_mat['annotations'][0]]\n",
    "df_test = pd.DataFrame(test_labels_data, columns=columns) \n",
    "print(\"\\n================================\\nTest Data\\n================================\\n\", df_test)"
   ]
  },
  {
   "cell_type": "code",
   "execution_count": 36,
   "metadata": {},
   "outputs": [
    {
     "data": {
      "image/png": "[encoded data removed]",
      "text/plain": [
       "<Figure size 432x288 with 1 Axes>"
      ]
     },
     "metadata": {
      "needs_background": "light"
     },
     "output_type": "display_data"
    },
    {
     "data": {
      "image/png": "[encoded data removed]",
      "text/plain": [
       "<Figure size 432x288 with 1 Axes>"
      ]
     },
     "metadata": {
      "needs_background": "light"
     },
     "output_type": "display_data"
    }
   ],
   "source": [
    "plt.figure()\n",
    "plt.title()\n",
    "plt.imshow(image)"
   ]
  }
 ],
 "metadata": {
  "kernelspec": {
   "display_name": "Python 3",
   "language": "python",
   "name": "python3"
  },
  "language_info": {
   "codemirror_mode": {
    "name": "ipython",
    "version": 3
   },
   "file_extension": ".py",
   "mimetype": "text/x-python",
   "name": "python",
   "nbconvert_exporter": "python",
   "pygments_lexer": "ipython3",
   "version": "3.6.8"
  }
 },
 "nbformat": 4,
 "nbformat_minor": 2
}
