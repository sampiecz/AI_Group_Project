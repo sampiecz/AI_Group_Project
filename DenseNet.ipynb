{
  "nbformat": 4,
  "nbformat_minor": 0,
  "metadata": {
    "accelerator": "GPU",
    "colab": {
      "name": "upload_images_through_drive.ipynb",
      "provenance": [],
      "collapsed_sections": [],
      "toc_visible": true
    },
    "kernelspec": {
      "name": "python3",
      "display_name": "Python 3"
    },
    "language_info": {
      "codemirror_mode": {
        "name": "ipython",
        "version": 3
      },
      "file_extension": ".py",
      "mimetype": "text/x-python",
      "name": "python",
      "nbconvert_exporter": "python",
      "pygments_lexer": "ipython3",
      "version": "3.6.8"
    }
  },
  "cells": [
    {
      "cell_type": "code",
      "metadata": {
        "colab_type": "code",
        "id": "7zyYRdjnjIGX",
        "outputId": "4f5b8a6a-4799-4ee4-c3cd-24a71903e22d",
        "colab": {
          "base_uri": "https://localhost:8080/",
          "height": 124
        }
      },
      "source": [
        "from google.colab import drive\n",
        "drive.mount('/content/gdrive')"
      ],
      "execution_count": 3,
      "outputs": [
        {
          "output_type": "stream",
          "text": [
            "Go to this URL in a browser: https://accounts.google.com/o/oauth2/auth?client_id=947318989803-6bn6qk8qdgf4n4g3pfee6491hc0brc4i.apps.googleusercontent.com&redirect_uri=urn%3aietf%3awg%3aoauth%3a2.0%3aoob&response_type=code&scope=email%20https%3a%2f%2fwww.googleapis.com%2fauth%2fdocs.test%20https%3a%2f%2fwww.googleapis.com%2fauth%2fdrive%20https%3a%2f%2fwww.googleapis.com%2fauth%2fdrive.photos.readonly%20https%3a%2f%2fwww.googleapis.com%2fauth%2fpeopleapi.readonly\n",
            "\n",
            "Enter your authorization code:\n",
            "··········\n",
            "Mounted at /content/gdrive\n"
          ],
          "name": "stdout"
        }
      ]
    },
    {
      "cell_type": "code",
      "metadata": {
        "colab_type": "code",
        "id": "GP0aTZ-LjwO6",
        "outputId": "ad14b609-7515-484f-f90f-2a18e92c74fd",
        "colab": {
          "base_uri": "https://localhost:8080/",
          "height": 225
        }
      },
      "source": [
        "!ls '/content/gdrive/My Drive/images for 490/cars_train'"
      ],
      "execution_count": 4,
      "outputs": [
        {
          "output_type": "stream",
          "text": [
            "1    11   120  131  142  153  164  175\t186  2\t 30  41  52  63  74  85  96\n",
            "10   110  121  132  143  154  165  176\t187  20  31  42  53  64  75  86  97\n",
            "100  111  122  133  144  155  166  177\t188  21  32  43  54  65  76  87  98\n",
            "101  112  123  134  145  156  167  178\t189  22  33  44  55  66  77  88  99\n",
            "102  113  124  135  146  157  168  179\t19   23  34  45  56  67  78  89\n",
            "103  114  125  136  147  158  169  18\t190  24  35  46  57  68  79  9\n",
            "104  115  126  137  148  159  17   180\t191  25  36  47  58  69  8   90\n",
            "105  116  127  138  149  16   170  181\t192  26  37  48  59  7\t 80  91\n",
            "106  117  128  139  15\t 160  171  182\t193  27  38  49  6   70  81  92\n",
            "107  118  129  14   150  161  172  183\t194  28  39  5\t 60  71  82  93\n",
            "108  119  13   140  151  162  173  184\t195  29  4   50  61  72  83  94\n",
            "109  12   130  141  152  163  174  185\t196  3\t 40  51  62  73  84  95\n"
          ],
          "name": "stdout"
        }
      ]
    },
    {
      "cell_type": "markdown",
      "metadata": {
        "id": "gMxT6LA07SvH",
        "colab_type": "text"
      },
      "source": [
        "# DenseNet Model"
      ]
    },
    {
      "cell_type": "markdown",
      "metadata": {
        "id": "RMlJnN8x7zye",
        "colab_type": "text"
      },
      "source": [
        "## Imports"
      ]
    },
    {
      "cell_type": "code",
      "metadata": {
        "id": "ZI3Jd1Vb7wQN",
        "colab_type": "code",
        "colab": {
          "base_uri": "https://localhost:8080/",
          "height": 81
        },
        "outputId": "25b79c46-71ec-4398-9cef-a5711015de19"
      },
      "source": [
        "from keras.preprocessing.image import ImageDataGenerator\n",
        "from keras.applications import densenet\n",
        "from keras.models import Sequential, Model, load_model\n",
        "from keras.layers import Conv2D, MaxPooling2D\n",
        "from keras.layers import Activation, Dropout, Flatten, Dense\n",
        "from keras.callbacks import EarlyStopping, ReduceLROnPlateau, ModelCheckpoint, Callback\n",
        "from keras import regularizers\n",
        "from keras import backend as K"
      ],
      "execution_count": 5,
      "outputs": [
        {
          "output_type": "stream",
          "text": [
            "Using TensorFlow backend.\n"
          ],
          "name": "stderr"
        },
        {
          "output_type": "display_data",
          "data": {
            "text/html": [
              "<p style=\"color: red;\">\n",
              "The default version of TensorFlow in Colab will soon switch to TensorFlow 2.x.<br>\n",
              "We recommend you <a href=\"https://www.tensorflow.org/guide/migrate\" target=\"_blank\">upgrade</a> now \n",
              "or ensure your notebook will continue to use TensorFlow 1.x via the <code>%tensorflow_version 1.x</code> magic:\n",
              "<a href=\"https://colab.research.google.com/notebooks/tensorflow_version.ipynb\" target=\"_blank\">more info</a>.</p>\n"
            ],
            "text/plain": [
              "<IPython.core.display.HTML object>"
            ]
          },
          "metadata": {
            "tags": []
          }
        }
      ]
    },
    {
      "cell_type": "code",
      "metadata": {
        "id": "PSvlvEmq71yK",
        "colab_type": "code",
        "colab": {
          "base_uri": "https://localhost:8080/",
          "height": 72
        },
        "outputId": "cf10d295-b4ae-4225-aae2-60b3b57c5c54"
      },
      "source": [
        "K.set_learning_phase(1)"
      ],
      "execution_count": 6,
      "outputs": [
        {
          "output_type": "stream",
          "text": [
            "WARNING:tensorflow:From /usr/local/lib/python3.6/dist-packages/keras/backend/tensorflow_backend.py:66: The name tf.get_default_graph is deprecated. Please use tf.compat.v1.get_default_graph instead.\n",
            "\n"
          ],
          "name": "stdout"
        }
      ]
    },
    {
      "cell_type": "code",
      "metadata": {
        "id": "Ug6ktvY676Fq",
        "colab_type": "code",
        "colab": {}
      },
      "source": [
        "img_width, img_height = 224, 224\n",
        "# Number of training samples\n",
        "nb_train_samples = 6074\n",
        "# Number of Validation samples\n",
        "nb_validation_samples = 1983\n",
        "epochs = 10\n",
        "batch_size = 32\n",
        "# Number of classes\n",
        "n_classes = 196"
      ],
      "execution_count": 0,
      "outputs": []
    },
    {
      "cell_type": "code",
      "metadata": {
        "id": "X2DhXR6Z79_K",
        "colab_type": "code",
        "colab": {
          "base_uri": "https://localhost:8080/",
          "height": 52
        },
        "outputId": "8bd11235-8de3-480b-fa52-c7f070f97bea"
      },
      "source": [
        "# Assign training and validation directory variables\n",
        "train_data_dir = '/content/gdrive/My Drive/images for 490/cars_train'\n",
        "validation_data_dir = '/content/gdrive/My Drive/images for 490/cars_test'\n",
        "\n",
        "# Image augmentation\n",
        "train_datagen = ImageDataGenerator(\n",
        "    rescale=1. / 255,\n",
        "    #shear_range=0.2,\n",
        "    zoom_range=0.2,\n",
        "    #fill_mode = 'constant',\n",
        "    #cval = 1,\n",
        "    rotation_range = 5,\n",
        "    #width_shift_range=0.2,\n",
        "    #height_shift_range=0.2,\n",
        "    horizontal_flip=True)\n",
        "\n",
        "test_datagen = ImageDataGenerator(rescale=1. / 255)\n",
        "\n",
        "train_generator = train_datagen.flow_from_directory(\n",
        "    train_data_dir,\n",
        "    target_size=(img_width, img_height),\n",
        "    batch_size=batch_size,\n",
        "    class_mode='categorical')\n",
        "\n",
        "validation_generator = test_datagen.flow_from_directory(\n",
        "    validation_data_dir,\n",
        "    target_size=(img_width, img_height),\n",
        "    batch_size=batch_size,\n",
        "    class_mode='categorical')"
      ],
      "execution_count": 11,
      "outputs": [
        {
          "output_type": "stream",
          "text": [
            "Found 6074 images belonging to 196 classes.\n",
            "Found 1983 images belonging to 196 classes.\n"
          ],
          "name": "stdout"
        }
      ]
    },
    {
      "cell_type": "code",
      "metadata": {
        "id": "T-gBl-Xh8ELS",
        "colab_type": "code",
        "colab": {}
      },
      "source": [
        "# '../input/full-keras-pretrained-no-top/densenet121_weights_tf_dim_ordering_tf_kernels_notop.h5'\n",
        "# Alternative to the below to try: DenseNet121(include_top=True, weights='imagenet', input_tensor=None, classes=1000)\n",
        "def build_model():\n",
        "    base_model = densenet.DenseNet121(input_shape=(img_width, img_height, 3),\n",
        "                                     weights='imagenet',\n",
        "                                     include_top=False,\n",
        "                                     pooling='avg')\n",
        "    for layer in base_model.layers:\n",
        "      layer.trainable = True\n",
        "\n",
        "    x = base_model.output\n",
        "    x = Dense(1000, kernel_regularizer=regularizers.l1_l2(0.01), activity_regularizer=regularizers.l2(0.01))(x)\n",
        "    x = Activation('relu')(x)\n",
        "    x = Dense(500, kernel_regularizer=regularizers.l1_l2(0.01), activity_regularizer=regularizers.l2(0.01))(x)\n",
        "    x = Activation('relu')(x)\n",
        "    predictions = Dense(n_classes, activation='softmax')(x)\n",
        "    model = Model(inputs=base_model.input, outputs=predictions)\n",
        "    \n",
        "    return model"
      ],
      "execution_count": 0,
      "outputs": []
    },
    {
      "cell_type": "code",
      "metadata": {
        "id": "sOL1SQQD8GBw",
        "colab_type": "code",
        "colab": {
          "base_uri": "https://localhost:8080/",
          "height": 523
        },
        "outputId": "e062049c-0a7f-433b-fb8f-4d4df8cee095"
      },
      "source": [
        "model = build_model()\n",
        "model.compile(loss='categorical_crossentropy', optimizer='adam', metrics=['acc', 'mse'])"
      ],
      "execution_count": 16,
      "outputs": [
        {
          "output_type": "stream",
          "text": [
            "WARNING:tensorflow:From /usr/local/lib/python3.6/dist-packages/keras/backend/tensorflow_backend.py:541: The name tf.placeholder is deprecated. Please use tf.compat.v1.placeholder instead.\n",
            "\n",
            "WARNING:tensorflow:From /usr/local/lib/python3.6/dist-packages/keras/backend/tensorflow_backend.py:4432: The name tf.random_uniform is deprecated. Please use tf.random.uniform instead.\n",
            "\n",
            "WARNING:tensorflow:From /usr/local/lib/python3.6/dist-packages/keras/backend/tensorflow_backend.py:190: The name tf.get_default_session is deprecated. Please use tf.compat.v1.get_default_session instead.\n",
            "\n",
            "WARNING:tensorflow:From /usr/local/lib/python3.6/dist-packages/keras/backend/tensorflow_backend.py:197: The name tf.ConfigProto is deprecated. Please use tf.compat.v1.ConfigProto instead.\n",
            "\n",
            "WARNING:tensorflow:From /usr/local/lib/python3.6/dist-packages/keras/backend/tensorflow_backend.py:203: The name tf.Session is deprecated. Please use tf.compat.v1.Session instead.\n",
            "\n",
            "WARNING:tensorflow:From /usr/local/lib/python3.6/dist-packages/keras/backend/tensorflow_backend.py:207: The name tf.global_variables is deprecated. Please use tf.compat.v1.global_variables instead.\n",
            "\n",
            "WARNING:tensorflow:From /usr/local/lib/python3.6/dist-packages/keras/backend/tensorflow_backend.py:216: The name tf.is_variable_initialized is deprecated. Please use tf.compat.v1.is_variable_initialized instead.\n",
            "\n",
            "WARNING:tensorflow:From /usr/local/lib/python3.6/dist-packages/keras/backend/tensorflow_backend.py:223: The name tf.variables_initializer is deprecated. Please use tf.compat.v1.variables_initializer instead.\n",
            "\n",
            "WARNING:tensorflow:From /usr/local/lib/python3.6/dist-packages/keras/backend/tensorflow_backend.py:2041: The name tf.nn.fused_batch_norm is deprecated. Please use tf.compat.v1.nn.fused_batch_norm instead.\n",
            "\n",
            "WARNING:tensorflow:From /usr/local/lib/python3.6/dist-packages/keras/backend/tensorflow_backend.py:4267: The name tf.nn.max_pool is deprecated. Please use tf.nn.max_pool2d instead.\n",
            "\n",
            "WARNING:tensorflow:From /usr/local/lib/python3.6/dist-packages/keras/backend/tensorflow_backend.py:4271: The name tf.nn.avg_pool is deprecated. Please use tf.nn.avg_pool2d instead.\n",
            "\n",
            "Downloading data from https://github.com/keras-team/keras-applications/releases/download/densenet/densenet121_weights_tf_dim_ordering_tf_kernels_notop.h5\n",
            "29089792/29084464 [==============================] - 1s 0us/step\n",
            "WARNING:tensorflow:From /usr/local/lib/python3.6/dist-packages/keras/optimizers.py:793: The name tf.train.Optimizer is deprecated. Please use tf.compat.v1.train.Optimizer instead.\n",
            "\n",
            "WARNING:tensorflow:From /usr/local/lib/python3.6/dist-packages/keras/backend/tensorflow_backend.py:3576: The name tf.log is deprecated. Please use tf.math.log instead.\n",
            "\n"
          ],
          "name": "stdout"
        }
      ]
    },
    {
      "cell_type": "code",
      "metadata": {
        "id": "-5y_T3tS8JCv",
        "colab_type": "code",
        "colab": {}
      },
      "source": [
        "early_stop = EarlyStopping(monitor='val_loss', patience=8, verbose=1, min_delta=1e-4)\n",
        "reduce_lr = ReduceLROnPlateau(monitor='val_loss', factor=0.1, patience=4, verbose=1, min_delta=1e-4)\n",
        "callbacks_list = [early_stop, reduce_lr]"
      ],
      "execution_count": 0,
      "outputs": []
    },
    {
      "cell_type": "code",
      "metadata": {
        "id": "Mhrqf1Du8NS4",
        "colab_type": "code",
        "colab": {
          "base_uri": "https://localhost:8080/",
          "height": 541
        },
        "outputId": "0b820273-1d74-433d-f358-ca726d949aeb"
      },
      "source": [
        "model_history = model.fit_generator(\n",
        "    train_generator,\n",
        "    epochs=epochs,\n",
        "    validation_data=validation_generator,\n",
        "    validation_steps=nb_validation_samples // batch_size,\n",
        "    callbacks=callbacks_list)"
      ],
      "execution_count": 19,
      "outputs": [
        {
          "output_type": "stream",
          "text": [
            "WARNING:tensorflow:From /usr/local/lib/python3.6/dist-packages/tensorflow_core/python/ops/math_grad.py:1424: where (from tensorflow.python.ops.array_ops) is deprecated and will be removed in a future version.\n",
            "Instructions for updating:\n",
            "Use tf.where in 2.0, which has the same broadcast rule as np.where\n",
            "WARNING:tensorflow:From /usr/local/lib/python3.6/dist-packages/keras/backend/tensorflow_backend.py:1033: The name tf.assign_add is deprecated. Please use tf.compat.v1.assign_add instead.\n",
            "\n",
            "WARNING:tensorflow:From /usr/local/lib/python3.6/dist-packages/keras/backend/tensorflow_backend.py:1020: The name tf.assign is deprecated. Please use tf.compat.v1.assign instead.\n",
            "\n",
            "Epoch 1/10\n",
            "190/190 [==============================] - 2136s 11s/step - loss: 151.6021 - acc: 0.0056 - mean_squared_error: 0.0051 - val_loss: 36.1916 - val_acc: 0.0091 - val_mean_squared_error: 0.0051\n",
            "Epoch 2/10\n",
            "190/190 [==============================] - 267s 1s/step - loss: 16.9912 - acc: 0.0082 - mean_squared_error: 0.0051 - val_loss: 8.4475 - val_acc: 0.0090 - val_mean_squared_error: 0.0051\n",
            "Epoch 3/10\n",
            "190/190 [==============================] - 265s 1s/step - loss: 7.2148 - acc: 0.0083 - mean_squared_error: 0.0051 - val_loss: 6.7535 - val_acc: 0.0090 - val_mean_squared_error: 0.0051\n",
            "Epoch 4/10\n",
            "190/190 [==============================] - 265s 1s/step - loss: 6.7228 - acc: 0.0082 - mean_squared_error: 0.0051 - val_loss: 6.7342 - val_acc: 0.0096 - val_mean_squared_error: 0.0051\n",
            "Epoch 5/10\n",
            "190/190 [==============================] - 266s 1s/step - loss: 6.7462 - acc: 0.0082 - mean_squared_error: 0.0051 - val_loss: 6.7700 - val_acc: 0.0086 - val_mean_squared_error: 0.0051\n",
            "Epoch 6/10\n",
            "190/190 [==============================] - 264s 1s/step - loss: 6.7793 - acc: 0.0082 - mean_squared_error: 0.0051 - val_loss: 6.8074 - val_acc: 0.0092 - val_mean_squared_error: 0.0051\n",
            "Epoch 7/10\n",
            "190/190 [==============================] - 264s 1s/step - loss: 6.8156 - acc: 0.0082 - mean_squared_error: 0.0051 - val_loss: 6.8437 - val_acc: 0.0090 - val_mean_squared_error: 0.0051\n",
            "Epoch 8/10\n",
            "190/190 [==============================] - 264s 1s/step - loss: 6.8501 - acc: 0.0083 - mean_squared_error: 0.0051 - val_loss: 6.8772 - val_acc: 0.0090 - val_mean_squared_error: 0.0051\n",
            "\n",
            "Epoch 00008: ReduceLROnPlateau reducing learning rate to 0.00010000000474974513.\n",
            "Epoch 9/10\n",
            "190/190 [==============================] - 265s 1s/step - loss: 5.5080 - acc: 0.0082 - mean_squared_error: 0.0051 - val_loss: 5.4545 - val_acc: 0.0093 - val_mean_squared_error: 0.0051\n",
            "Epoch 10/10\n",
            "190/190 [==============================] - 266s 1s/step - loss: 5.4356 - acc: 0.0082 - mean_squared_error: 0.0051 - val_loss: 5.4538 - val_acc: 0.0091 - val_mean_squared_error: 0.0051\n"
          ],
          "name": "stdout"
        }
      ]
    },
    {
      "cell_type": "markdown",
      "metadata": {
        "id": "e888kn_z_Evs",
        "colab_type": "text"
      },
      "source": [
        "# NASNet"
      ]
    }
  ]
}